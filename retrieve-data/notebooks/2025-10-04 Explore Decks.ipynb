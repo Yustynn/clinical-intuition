{
 "cells": [
  {
   "cell_type": "code",
   "execution_count": 1,
   "id": "cc473431",
   "metadata": {},
   "outputs": [
    {
     "data": {
      "text/plain": [
       "True"
      ]
     },
     "execution_count": 1,
     "metadata": {},
     "output_type": "execute_result"
    }
   ],
   "source": [
    "import sys\n",
    "import os\n",
    "from dataclasses import dataclass\n",
    "from dotenv import load_dotenv\n",
    "from tqdm import tqdm\n",
    "\n",
    "sys.path.insert(0, \"../src\")\n",
    "\n",
    "from extract_valid_studies import main\n",
    "from models import ValidStudy, PrimaryOutcome\n",
    "\n",
    "load_dotenv()"
   ]
  },
  {
   "cell_type": "code",
   "execution_count": 2,
   "id": "ba2aac1c",
   "metadata": {},
   "outputs": [],
   "source": [
    "RAW_STUDIES_PATH = \"../data/raw_studies\""
   ]
  },
  {
   "cell_type": "code",
   "execution_count": 26,
   "id": "79682706",
   "metadata": {},
   "outputs": [
    {
     "name": "stderr",
     "output_type": "stream",
     "text": [
      "100%|██████████| 34562/34562 [00:08<00:00, 4317.35it/s]\n"
     ]
    },
    {
     "name": "stdout",
     "output_type": "stream",
     "text": [
      "Loaded 5858 raw studies with results\n",
      "2033 out of 5858 (34.70%) studies have p-values reported in primary outcomes analyses.\n"
     ]
    }
   ],
   "source": [
    "studies = main(RAW_STUDIES_PATH)"
   ]
  },
  {
   "cell_type": "code",
   "execution_count": 9,
   "id": "3ad92ff8",
   "metadata": {},
   "outputs": [],
   "source": [
    "by_deck = {}\n",
    "for study in studies:\n",
    "    for deck in study.decks:\n",
    "        if deck not in by_deck:\n",
    "            by_deck[deck] = []\n",
    "        by_deck[deck].append(study)"
   ]
  },
  {
   "cell_type": "code",
   "execution_count": 28,
   "id": "763e7a82",
   "metadata": {},
   "outputs": [
    {
     "name": "stdout",
     "output_type": "stream",
     "text": [
      "Pain: 66 studies, 261 outcomes, 48.7%, 127 successful outcomes, 134 failed outcomes\n",
      "  - Any successful studies: 36 (54.5%)\n",
      "  - Any failed studies: 50 (75.8%)\n",
      "  - Success percentages: avg 39.5%\n",
      "Obesity: 117 studies, 340 outcomes, 43.5%, 148 successful outcomes, 192 failed outcomes\n",
      "  - Any successful studies: 81 (69.2%)\n",
      "  - Any failed studies: 64 (54.7%)\n",
      "  - Success percentages: avg 56.9%\n",
      "PTSD: 38 studies, 121 outcomes, 42.1%, 51 successful outcomes, 70 failed outcomes\n",
      "  - Any successful studies: 23 (60.5%)\n",
      "  - Any failed studies: 21 (55.3%)\n",
      "  - Success percentages: avg 51.9%\n",
      "Stress: 60 studies, 227 outcomes, 41.4%, 94 successful outcomes, 133 failed outcomes\n",
      "  - Any successful studies: 41 (68.3%)\n",
      "  - Any failed studies: 32 (53.3%)\n",
      "  - Success percentages: avg 55.5%\n",
      "Diabetes: 86 studies, 325 outcomes, 24.3%, 79 successful outcomes, 246 failed outcomes\n",
      "  - Any successful studies: 50 (58.1%)\n",
      "  - Any failed studies: 51 (59.3%)\n",
      "  - Success percentages: avg 48.7%\n",
      "Substance Use: 182 studies, 703 outcomes, 36.7%, 258 successful outcomes, 445 failed outcomes\n",
      "  - Any successful studies: 106 (58.2%)\n",
      "  - Any failed studies: 130 (71.4%)\n",
      "  - Success percentages: avg 40.9%\n",
      "Smoking: 69 studies, 193 outcomes, 36.3%, 70 successful outcomes, 123 failed outcomes\n",
      "  - Any successful studies: 34 (49.3%)\n",
      "  - Any failed studies: 52 (75.4%)\n",
      "  - Success percentages: avg 34.8%\n",
      "ADHD: 8 studies, 21 outcomes, 57.1%, 12 successful outcomes, 9 failed outcomes\n",
      "  - Any successful studies: 6 (75.0%)\n",
      "  - Any failed studies: 4 (50.0%)\n",
      "  - Success percentages: avg 62.5%\n",
      "Depression: 87 studies, 244 outcomes, 52.0%, 127 successful outcomes, 117 failed outcomes\n",
      "  - Any successful studies: 59 (67.8%)\n",
      "  - Any failed studies: 46 (52.9%)\n",
      "  - Success percentages: avg 57.3%\n",
      "HIV: 61 studies, 266 outcomes, 22.9%, 61 successful outcomes, 205 failed outcomes\n",
      "  - Any successful studies: 35 (57.4%)\n",
      "  - Any failed studies: 41 (67.2%)\n",
      "  - Success percentages: avg 41.2%\n",
      "Alcohol Use: 49 studies, 210 outcomes, 31.4%, 66 successful outcomes, 144 failed outcomes\n",
      "  - Any successful studies: 30 (61.2%)\n",
      "  - Any failed studies: 33 (67.3%)\n",
      "  - Success percentages: avg 43.2%\n",
      "Anxiety: 41 studies, 162 outcomes, 46.3%, 75 successful outcomes, 87 failed outcomes\n",
      "  - Any successful studies: 28 (68.3%)\n",
      "  - Any failed studies: 23 (56.1%)\n",
      "  - Success percentages: avg 58.3%\n",
      "Sleep: 36 studies, 112 outcomes, 43.8%, 49 successful outcomes, 63 failed outcomes\n",
      "  - Any successful studies: 21 (58.3%)\n",
      "  - Any failed studies: 23 (63.9%)\n",
      "  - Success percentages: avg 45.6%\n",
      "Insomnia: 15 studies, 46 outcomes, 41.3%, 19 successful outcomes, 27 failed outcomes\n",
      "  - Any successful studies: 9 (60.0%)\n",
      "  - Any failed studies: 8 (53.3%)\n",
      "  - Success percentages: avg 54.5%\n",
      "Schizophrenia: 16 studies, 59 outcomes, 32.2%, 19 successful outcomes, 40 failed outcomes\n",
      "  - Any successful studies: 8 (50.0%)\n",
      "  - Any failed studies: 12 (75.0%)\n",
      "  - Success percentages: avg 32.4%\n",
      "Bipolar Disorder: 8 studies, 23 outcomes, 65.2%, 15 successful outcomes, 8 failed outcomes\n",
      "  - Any successful studies: 6 (75.0%)\n",
      "  - Any failed studies: 3 (37.5%)\n",
      "  - Success percentages: avg 65.6%\n"
     ]
    }
   ],
   "source": [
    "by_deck_counts = {deck: len(studies) for deck, studies in by_deck.items()}\n",
    "\n",
    "for deck, studies in by_deck.items():\n",
    "    n_succ = 0\n",
    "    n_fail = 0\n",
    "    n_any_succ = 0\n",
    "    n_any_fail = 0\n",
    "    perc_succ = []\n",
    "    for study in studies:\n",
    "        n_s_succ = 0\n",
    "        n_s_fail = 0\n",
    "        for outcome in study.primary_outcomes:\n",
    "            success = outcome.check_success()\n",
    "            if success is True:\n",
    "                n_succ += 1\n",
    "                n_s_succ += 1\n",
    "            elif success is False:\n",
    "                n_fail += 1\n",
    "                n_s_fail += 1\n",
    "        if n_s_succ > 0:\n",
    "            n_any_succ += 1\n",
    "        if n_s_fail > 0:\n",
    "            n_any_fail += 1\n",
    "        perc = n_s_succ / (n_s_succ + n_s_fail) if (n_s_succ + n_s_fail) > 0 else 0\n",
    "        perc_succ.append(round(perc * 100))\n",
    "    n_outcomes = n_succ + n_fail\n",
    "    print(f\"{deck}: {len(studies)} studies, {n_outcomes} outcomes, {n_succ/(n_succ+n_fail)*100 if n_fail > 0 else 0:.1f}%, {n_succ} successful outcomes, {n_fail} failed outcomes\")\n",
    "    print(f\"  - Any successful studies: {n_any_succ} ({n_any_succ/len(studies)*100:.1f}%)\")\n",
    "    print(f\"  - Any failed studies: {n_any_fail} ({n_any_fail/len(studies)*100:.1f}%)\")\n",
    "    print(f\"  - Success percentages: avg {sum(perc_succ)/len(perc_succ):.1f}%\")\n"
   ]
  },
  {
   "cell_type": "code",
   "execution_count": 27,
   "id": "f3352e45",
   "metadata": {},
   "outputs": [
    {
     "data": {
      "text/plain": [
       "7336"
      ]
     },
     "execution_count": 27,
     "metadata": {},
     "output_type": "execute_result"
    }
   ],
   "source": [
    "n = sum(len(s.primary_outcomes) for s in studies)\n",
    "n_studies = len(studies)\n",
    "n"
   ]
  }
 ],
 "metadata": {
  "kernelspec": {
   "display_name": "trials",
   "language": "python",
   "name": "python3"
  },
  "language_info": {
   "codemirror_mode": {
    "name": "ipython",
    "version": 3
   },
   "file_extension": ".py",
   "mimetype": "text/x-python",
   "name": "python",
   "nbconvert_exporter": "python",
   "pygments_lexer": "ipython3",
   "version": "3.13.7"
  }
 },
 "nbformat": 4,
 "nbformat_minor": 5
}
