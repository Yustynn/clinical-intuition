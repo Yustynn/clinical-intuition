{
 "cells": [
  {
   "cell_type": "code",
   "execution_count": 8,
   "id": "aaa14c48",
   "metadata": {},
   "outputs": [],
   "source": [
    "import ujson as json\n",
    "import sys\n",
    "sys.path.insert(0, \"../src\")\n",
    "\n",
    "from extract_valid_studies import main"
   ]
  },
  {
   "cell_type": "code",
   "execution_count": 9,
   "id": "1c4105b4",
   "metadata": {},
   "outputs": [],
   "source": [
    "with open(\"../data/cards/cards.json\") as f:\n",
    "    cards = json.load(f)"
   ]
  },
  {
   "cell_type": "code",
   "execution_count": 11,
   "id": "84f09b0f",
   "metadata": {},
   "outputs": [
    {
     "name": "stderr",
     "output_type": "stream",
     "text": [
      "100%|██████████| 34562/34562 [00:08<00:00, 3877.06it/s]\n"
     ]
    },
    {
     "name": "stdout",
     "output_type": "stream",
     "text": [
      "Loaded 5858 raw studies with results\n",
      "2033 out of 5858 (34.70%) studies have p-values reported in primary outcomes analyses.\n"
     ]
    }
   ],
   "source": [
    "studies = main(\"../data/raw_studies\")"
   ]
  },
  {
   "cell_type": "code",
   "execution_count": 5,
   "id": "c666209b",
   "metadata": {},
   "outputs": [
    {
     "data": {
      "text/plain": [
       "Counter({True: 237, False: 211})"
      ]
     },
     "execution_count": 5,
     "metadata": {},
     "output_type": "execute_result"
    }
   ],
   "source": [
    "from collections import Counter\n",
    "\n",
    "Counter([c[\"success\"] for c in cards])"
   ]
  },
  {
   "cell_type": "code",
   "execution_count": null,
   "id": "944f3f95",
   "metadata": {},
   "outputs": [],
   "source": [
    "n_o_succ = 0\n",
    "n_o_true"
   ]
  },
  {
   "cell_type": "code",
   "execution_count": null,
   "id": "44863107",
   "metadata": {},
   "outputs": [
    {
     "data": {
      "text/plain": [
       "0"
      ]
     },
     "execution_count": 17,
     "metadata": {},
     "output_type": "execute_result"
    }
   ],
   "source": [
    "from tqdm import tqdm\n",
    "\n",
    "lifu_studies = []\n",
    "\n",
    "for study in studies:\n",
    "    if 'lifu' in str(study).lower():\n",
    "        lifu_studies.append(study)\n",
    "\n",
    "len(lifu_studies)"
   ]
  },
  {
   "cell_type": "code",
   "execution_count": 23,
   "id": "a9fc4640",
   "metadata": {},
   "outputs": [
    {
     "name": "stdout",
     "output_type": "stream",
     "text": [
      "(\"ValidStudy(nct_id='NCT05822921', title='Providing Accessible Diagnostic \"\n",
      " 'Evaluations and Psychoeducation for Autism Spectrum Disorder in Rural '\n",
      " \"Southwest Virginia', description='This study will be the pilot/feasibility \"\n",
      " 'phase of a future clinical trial. The proposed feasibility and pilot study '\n",
      " 'aims to bridge the barriers to diagnosis by providing easy-to-access '\n",
      " 'assessment for free, through a mobile unit that travels to rural locations '\n",
      " 'and telehealth assessments. The diagnostic evaluation will confirm or rule '\n",
      " 'out a diagnosis of ASD, followed by purposeful ASD psychoeducation for '\n",
      " 'parents whose children are diagnosed.\\\\n\\\\nParents of children who meet '\n",
      " 'criteria for a diagnosis of autism spectrum disorder (ASD) or are suspected '\n",
      " 'to have ASD will be randomized into one of three groups (i.e., in-person '\n",
      " 'psychoeducation, telehealth psychoeducation, or \"psychoeducation as usual\" '\n",
      " 'with paper psychoeducation materials). Parents will complete outcome '\n",
      " 'measures related to their satisfaction, empowerment, and autism spectrum '\n",
      " 'disorder knowledge. Changes in empowerment and ASD knowledge from pre- to '\n",
      " 'post-psychoeducation will be measured using t-tests. The investigators will '\n",
      " 'also track if participants sought and/or received additional ASD-related '\n",
      " 'services throughout the study, up to 6-months post-psychoeducation. Results '\n",
      " 'from this study will help to guide a future, fully powered efficacy trial '\n",
      " 'with a larger sample.\\\\n\\\\nAdded April 2020:\\\\n\\\\nIn light of the Virginia '\n",
      " \"governor\\\\'s stay-at-home order in response to the COVID-19 outbreak, which \"\n",
      " 'reached pandemic status approximately halfway through data collection, all '\n",
      " 'in-person research and clinical services have been paused at Virginia Tech '\n",
      " 'as of March 13, 2020. To continue to provide services to families in this '\n",
      " 'time, in line with Executive Order 53 from the VA Governor to ensure that '\n",
      " 'the stay-at-home orders do not limit the provision of health care or medical '\n",
      " 'services, this study will begin exploring the feasibility of conducting '\n",
      " 'tele-assessment, a comprehensive assessment battery via a secure video '\n",
      " 'platform and phone.\\\\n\\\\nAs such, the protocol is altered to be in line with '\n",
      " \"the university\\\\'s request to move to remote conduct of research where \"\n",
      " 'possible. For the remaining half of participants, the investigators will '\n",
      " 'replace the mobile assessment battery with a tele-assessment battery, '\n",
      " 'delivered via secure online video platform ZoomHIPAA and/or by phone '\n",
      " '(totaling up to 7 hours of assessment). As such, the protocol is revised to '\n",
      " 'include tele-assessments (no in-person assessments) and randomly assigning '\n",
      " 'eligible participants to either the telehealth or paper materials '\n",
      " 'psychoeducation groups. All outcome measures will remain the same, but will '\n",
      " 'be collected online or by telephone. The investigators and participants may '\n",
      " 'return to in-person assessments if and when it is possible, but reserve the '\n",
      " 'right to continue tele-assessment even once stay-at-home orders are '\n",
      " 'lifted.\\\\n\\\\nThe aims of the project will be altered somewhat by the updated '\n",
      " 'procedure. The study will be significantly underpowered to analyze the '\n",
      " 'differences between psychoeducation conditions within and between each '\n",
      " 'assessment modality (i.e., in-person vs. telehealth), therefore in person '\n",
      " 'and telehealth conditions will be combined into one psychoeducation (PE) '\n",
      " 'group with clinician-led sessions. The mean differences between the PE group '\n",
      " 'and the psychoeducation as usual (i.e., paper materials) formats will be '\n",
      " 'preliminarily explored, in terms of both feasibility and satisfaction of the '\n",
      " 'psychoeducation services and changes in outcome measures (i.e., FES and '\n",
      " 'ASK-Q). Pending permission to return to in-person assessments, analyses will '\n",
      " 'also report alignment between diagnoses made via tele-assessment (CARS-2 and '\n",
      " \"ADI-R) and a later in-person administration of the ADOS-2.', \"\n",
      " \"conditions=['Autism Spectrum Disorder'], keywords=[], \"\n",
      " \"brief_description='This study will be the pilot/feasibility phase of a \"\n",
      " 'future clinical trial. The proposed feasibility and pilot study aims to '\n",
      " 'bridge the barriers to diagnosis by providing easy-to-access assessment for '\n",
      " 'free, through a mobile unit that travels to rural locations and telehealth '\n",
      " 'assessments. The diagnostic evaluation will confirm or rule out a diagnosis '\n",
      " 'of ASD, followed by purposeful ASD psychoeducation for parents whose '\n",
      " 'children are diagnosed.\\\\n\\\\nParents of children who meet criteria for a '\n",
      " 'diagnosis of autism spectrum disorder (ASD) or are suspected to have ASD '\n",
      " 'will be randomized into one of three groups (i.e., in-person '\n",
      " 'psychoeducation, telehealth psychoeducation, or \"psychoeducation as usual\" '\n",
      " 'with paper psychoeducation materials). Parents will complete outcome '\n",
      " 'measures related to their satisfaction, empowerment, and autism spectrum '\n",
      " 'disorder knowledge. Changes in empowerment and ASD knowledge from pre- to '\n",
      " 'post- psychoeducation will be measured using t-tests. The investigators will '\n",
      " 'also track if participants sought and/or received additional ASD-related '\n",
      " 'services throughout the study up to 6-months post-psychoeducation. Results '\n",
      " 'from this study will help to guide a future, fully powered efficacy trial '\n",
      " 'with a larger sample.\\\\n\\\\nAdded April 2020: In light of the Virginia '\n",
      " \"governor\\\\'s stay-at-home order in response to the COVID-19 outbreak, the \"\n",
      " \"investigators are altering the protocol in line with the university\\\\'s \"\n",
      " 'request to move to remote conduct of research where possible as well as to '\n",
      " 'continue to provide services to families in this time, in line with '\n",
      " 'Executive Order 53 from the VA Governor. Parents in the latter half of the '\n",
      " 'study conducted entirely remotely, will be randomized into the two '\n",
      " 'psychoeducation conditions, telehealth or paper materials psychoeducation '\n",
      " 'groups, as in-person visits are not permitted. Statistical analyses will be '\n",
      " 'added to compare results between and within those who received in-person '\n",
      " 'versus telehealth assessments. The investigators and participants may return '\n",
      " 'to in-person assessments if and when it is possible to do so, but reserve '\n",
      " 'the right to continue tele-assessment even once stay-at-home orders are '\n",
      " 'lifted, in order to fully answer the research aim of the feasibility and '\n",
      " \"validity or tele-assessment procedures in ASD.', \"\n",
      " \"primary_outcomes=[PrimaryOutcome(nct_id='NCT05822921', \"\n",
      " \"id='NCT05822921_po_1', title='Parent Satisfaction Assessed Via SATISFACTION \"\n",
      " 'SURVEY\\', description=\"SATISFACTION SURVEY: A satisfaction survey will be '\n",
      " \"administered to elicit parents' feedback on our service.Satisfaction survey \"\n",
      " 'administered immediately post-psychoeducation, on a scale of 0=completely '\n",
      " 'disagree to 4= completely agree with statements about satisfaction with '\n",
      " 'psychoeducation received, ability to function day to day, learning '\n",
      " 'throughout materials, ability to handle situations with child in future, and '\n",
      " 'ability to gain a better outlook on life with child. Total sum scores were '\n",
      " 'used, for a range of 0 to 20, with higher scores indicating greater '\n",
      " 'satisfaction.\", population_description=\\'For the PE condition, two families '\n",
      " 'were in person and nine families had sessions conducted over Zoom. For the '\n",
      " 'PAU condition, all families received paper materials. One family in each '\n",
      " 'condition did not complete the post-intervention measures, leaving 10 in the '\n",
      " 'PE condition and 8 in the PAU condition. All measures were completed by '\n",
      " 'parents in the parent-child pair. Outcome measures were not collected from '\n",
      " \"children.', timeframe='immediately post-intervention (4 weeks after \"\n",
      " \"baseline)', groups=[Group(id='OG000', title='Psychoeducation (PE) \"\n",
      " 'Clinician-led Sessions\\', description=\"Parents will attend two 60-minute '\n",
      " 'psychoeducation sessions (either in person or via Zoom). During these '\n",
      " 'sessions, a clinician will discuss a series of psychoeducation topics '\n",
      " 'supplemented with PowerPoint slides. Across the two sessions, the following '\n",
      " 'topics will be covered: (1) signs/symptoms and epidemiology of ASD, (2) risk '\n",
      " 'factors associated with developing ASD (e.g., genetics, neurobiology, '\n",
      " 'environment, social motivation), (3) navigating the IEP process, and (4) '\n",
      " \"evidence-based best practices recommended for their child's profile of ASD \"\n",
      " 'symptoms and co-occurring conditions. This delivery method will allow '\n",
      " 'parents to ask questions and receive immediate, live, and detailed answers '\n",
      " 'from an expert clinician, to focus on specific examples relevant to their '\n",
      " 'child, and to foster ASD knowledge and efficacy in helping their child.\", '\n",
      " \"num_participants='10', interventions=[]), Group(id='OG001', \"\n",
      " \"title='Psychoeducation as Usual (PAU)', description='Parents in this group \"\n",
      " 'will receive basic paper psychoeducation resources, distributed at their '\n",
      " 'feedback session. It will be up to each parent how frequently and diligently '\n",
      " 'these resources are reviewed. This should be akin to what a family might '\n",
      " 'have access to at their pediatric or primary care office. To be consistent '\n",
      " 'across study groups, the materials produced for these parents will be '\n",
      " 'comprehensive and will include the same span of content as the PowerPoint '\n",
      " 'slides used in the other two groups, but without structured sessions '\n",
      " 'facilitated by a clinician. Upon distribution of materials, parents will be '\n",
      " 'provided with our contact information and encouraged to reach out if any '\n",
      " \"questions occur.', num_participants='8', interventions=[])], \"\n",
      " \"p_value=PValue(comparator='=', value=0.871))], \"\n",
      " \"interventions=[Intervention(name='In-person Psychoeducation (IP)', \"\n",
      " 'type=\\'BEHAVIORAL\\', description=\"Parents will attend two 60-minute (i.e. '\n",
      " 'one day per week, for the next two weeks), in-person psychoeducation '\n",
      " 'sessions on the MAC, in or near their hometown. During these sessions, a '\n",
      " 'clinician will discuss a series of psychoeducation topics supplemented with '\n",
      " 'PowerPoint slides. Across the two sessions, the following topics will be '\n",
      " 'covered: (1) signs/symptoms and epidemiology of ASD, (2) risk factors '\n",
      " 'associated with developing ASD (e.g., genetics, neurobiology, environment, '\n",
      " 'social motivation), (3) navigating the IEP process, and (4) evidence-based '\n",
      " \"best practices recommended for their child's profile of ASD symptoms and \"\n",
      " 'co-occurring conditions. This delivery method will allow parents to ask '\n",
      " 'questions and receive immediate, live, and detailed answers from an expert '\n",
      " 'clinician, to focus on specific examples relevant to their child, and to '\n",
      " 'foster ASD knowledge and efficacy in helping their child.\", '\n",
      " \"arm_group_labels=['In-person Psychoeducation']), \"\n",
      " \"Intervention(name='Telehealth Psychoeducation (TH)', type='BEHAVIORAL', \"\n",
      " \"description='Parents in this group will attend two 60-minute sessions, \"\n",
      " 'remotely via a live video chat platform, rather than in-person. Otherwise, '\n",
      " 'it will follow the same format and PowerPoint materials as the IP Group. '\n",
      " 'Sessions will still be facilitated by a clinician, thus maintaining the '\n",
      " 'option to ask questions, discuss personalized examples, etc. For families '\n",
      " 'without computer and internet access, the family will be assisted with to '\n",
      " 'connecting to internet access at a private and convenient location (e.g., a '\n",
      " 'church, library, or local community services agency). In the event that this '\n",
      " 'is not possible, the family will be randomized to one of the other two '\n",
      " \"groups.', arm_group_labels=['Telehealth Psychoeducation']), \"\n",
      " \"Intervention(name='Psychoeducation as Usual (PAU)', type='BEHAVIORAL', \"\n",
      " \"description='Parents in this group will receive basic paper psychoeducation \"\n",
      " 'resources, distributed at their feedback session. It will be up to each '\n",
      " 'parent how frequently and diligently these resources are reviewed. This '\n",
      " 'should be akin to what a family might have access to at their pediatric or '\n",
      " 'primary care office. To be consistent across study groups, the materials '\n",
      " 'produced for these parents will be comprehensive and will include the same '\n",
      " 'span of content as the PowerPoint slides used in the other two groups, but '\n",
      " 'without structured sessions facilitated by a clinician. Upon distribution of '\n",
      " 'materials, parents will be provided with our contact information and '\n",
      " 'encouraged to reach out if any questions occur. Parents in the paper '\n",
      " 'informational materials group will have the option to complete two in-person '\n",
      " 'or video conference psychoeducation sessions after the end of the study, if '\n",
      " \"preferred (i.e., 6 months later).', arm_group_labels=['Psychoeducation as \"\n",
      " \"Usual'])])\")\n"
     ]
    }
   ],
   "source": [
    "from pprint import pprint\n",
    "pprint(str(study))"
   ]
  },
  {
   "cell_type": "code",
   "execution_count": null,
   "id": "2a911d62",
   "metadata": {},
   "outputs": [],
   "source": [
    "from "
   ]
  }
 ],
 "metadata": {
  "kernelspec": {
   "display_name": "trials",
   "language": "python",
   "name": "python3"
  },
  "language_info": {
   "codemirror_mode": {
    "name": "ipython",
    "version": 3
   },
   "file_extension": ".py",
   "mimetype": "text/x-python",
   "name": "python",
   "nbconvert_exporter": "python",
   "pygments_lexer": "ipython3",
   "version": "3.13.7"
  }
 },
 "nbformat": 4,
 "nbformat_minor": 5
}
