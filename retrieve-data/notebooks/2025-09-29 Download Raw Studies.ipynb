{
 "cells": [
  {
   "cell_type": "code",
   "execution_count": 1,
   "id": "f1fcb3dc",
   "metadata": {},
   "outputs": [],
   "source": [
    "\"\"\"\n",
    "ClinicalTrials.gov API v2 client for fetching study data.\n",
    "\"\"\"\n",
    "import urllib\n",
    "import json\n",
    "import time\n",
    "from typing import Dict, Generator\n",
    "from dataclasses import dataclass\n",
    "\n",
    "import os\n",
    "from tqdm import tqdm"
   ]
  },
  {
   "cell_type": "code",
   "execution_count": 2,
   "id": "100c0d7d",
   "metadata": {},
   "outputs": [
    {
     "name": "stderr",
     "output_type": "stream",
     "text": [
      "0it [00:00, ?it/s]"
     ]
    },
    {
     "name": "stderr",
     "output_type": "stream",
     "text": [
      "34562it [02:12, 261.23it/s]\n"
     ]
    }
   ],
   "source": [
    "PAGE_SIZE = 1000\n",
    "MAX_PAGES = 1000\n",
    "OUTPUT_DIR = \"data\"\n",
    "\n",
    "def fetch_studies(page_size: int = PAGE_SIZE, max_pages: int = MAX_PAGES, sleep_sec: float = 0.1) -> Generator[Dict, None, None]:\n",
    "    \"\"\"\n",
    "    Fetch behavioral intervention studies from ClinicalTrials.gov API\n",
    "    \"\"\"\n",
    "    BASE = \"https://clinicaltrials.gov/api/v2/studies\"\n",
    "    \n",
    "    fields = [\n",
    "        \"protocolSection.identificationModule\",\n",
    "        \"protocolSection.descriptionModule\",\n",
    "        \"protocolSection.statusModule\",\n",
    "        \"protocolSection.sponsorCollaboratorsModule\",\n",
    "        \"protocolSection.designModule\",\n",
    "        \"protocolSection.conditionsModule\",\n",
    "        \"protocolSection.eligibilityModule\",\n",
    "        \"protocolSection.armsInterventionsModule\",\n",
    "        \"protocolSection.outcomesModule\",\n",
    "\n",
    "        \"resultsSection.participantFlowModule\",\n",
    "        \"resultsSection.baselineCharacteristicsModule\",\n",
    "        \"resultsSection.outcomeMeasuresModule\",\n",
    "        \n",
    "        \"hasResults\"\n",
    "   ]\n",
    "    \n",
    "    query_terms = [\n",
    "        \"AREA[InterventionType]BEHAVIORAL\",\n",
    "        \"AREA[OverallStatus]COMPLETED\",\n",
    "    ]\n",
    "\n",
    "    \n",
    "    next_page_token = None\n",
    "    for page in range(max_pages):\n",
    "        params = {\n",
    "            \"pageSize\": page_size,\n",
    "            \"fields\": \",\".join(fields),\n",
    "            \"query.term\": \" AND \".join(query_terms),\n",
    "        }\n",
    "        \n",
    "        if next_page_token:\n",
    "            params[\"pageToken\"] = next_page_token\n",
    "        \n",
    "        full_url = f\"{BASE}?{urllib.parse.urlencode(params)}\"\n",
    "\n",
    "        \n",
    "        req = urllib.request.Request(full_url)\n",
    "        req.add_header('User-Agent', 'Python-urllib/3.11')\n",
    "        req.add_header('Accept', 'application/json')\n",
    "        \n",
    "        try:\n",
    "            with urllib.request.urlopen(req, timeout=30) as response:\n",
    "                if response.status != 200:\n",
    "                    break\n",
    "                \n",
    "                data = json.loads(response.read().decode())\n",
    "                studies = data.get('studies', [])\n",
    "                \n",
    "                if not studies:\n",
    "                    break\n",
    "                \n",
    "                for study in studies:\n",
    "                    yield study\n",
    "                \n",
    "                next_page_token = data.get('nextPageToken')\n",
    "                if not next_page_token or len(studies) < page_size:\n",
    "                    break\n",
    "                    \n",
    "        except Exception as e:\n",
    "            print(f\"Error fetching page {page}: {e}\")\n",
    "            break\n",
    "        \n",
    "        if sleep_sec > 0:\n",
    "            time.sleep(sleep_sec)\n",
    "\n",
    "\n",
    "for study in tqdm(fetch_studies()):\n",
    "    with open(os.path.join(OUTPUT_DIR, f\"{study['protocolSection']['identificationModule']['nctId']}.json\"), 'w') as f:\n",
    "        json.dump(study, f, indent=4)"
   ]
  },
  {
   "cell_type": "code",
   "execution_count": 3,
   "id": "70c9403b",
   "metadata": {},
   "outputs": [
    {
     "data": {
      "text/plain": [
       "34562"
      ]
     },
     "execution_count": 3,
     "metadata": {},
     "output_type": "execute_result"
    }
   ],
   "source": [
    "len(os.listdir(OUTPUT_DIR))"
   ]
  }
 ],
 "metadata": {
  "kernelspec": {
   "display_name": "trials",
   "language": "python",
   "name": "python3"
  },
  "language_info": {
   "codemirror_mode": {
    "name": "ipython",
    "version": 3
   },
   "file_extension": ".py",
   "mimetype": "text/x-python",
   "name": "python",
   "nbconvert_exporter": "python",
   "pygments_lexer": "ipython3",
   "version": "3.13.7"
  }
 },
 "nbformat": 4,
 "nbformat_minor": 5
}
