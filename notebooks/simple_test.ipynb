{
 "cells": [
  {
   "cell_type": "markdown",
   "metadata": {},
   "source": [
    "# Simple Clinical Trial Data Test\n",
    "\n",
    "Quick test to verify the ingested studies data."
   ]
  },
  {
   "cell_type": "code",
   "execution_count": null,
   "metadata": {},
   "outputs": [],
   "source": [
    "# Setup\n",
    "import sys\n",
    "from pathlib import Path\n",
    "\n",
    "# Add src to path\n",
    "project_root = Path().absolute().parent\n",
    "sys.path.insert(0, str(project_root / \"src\"))\n",
    "\n",
    "from database.json_store import JSONStore\n",
    "print(\"✅ Successfully imported JSONStore\")"
   ]
  },
  {
   "cell_type": "code",
   "execution_count": null,
   "metadata": {},
   "outputs": [],
   "source": [
    "# Load data\n",
    "data_dir = project_root / \"test_data\"\n",
    "store = JSONStore(data_dir)\n",
    "\n",
    "study_ids = store.list_studies()\n",
    "print(f\"📚 Found {len(study_ids)} studies\")\n",
    "\n",
    "# Load first few studies\n",
    "studies = []\n",
    "for study_id in study_ids[:10]:\n",
    "    study = store.get_study(study_id)\n",
    "    if study:\n",
    "        studies.append(study)\n",
    "\n",
    "print(f\"✅ Loaded {len(studies)} studies successfully\")\n",
    "\n",
    "# Check studies with results\n",
    "studies_with_results = [s for s in studies if s.has_results]\n",
    "print(f\"📊 Studies with results: {len(studies_with_results)}/{len(studies)}\")"
   ]
  },
  {
   "cell_type": "code",
   "execution_count": null,
   "metadata": {},
   "outputs": [],
   "source": [
    "# Show sample study\n",
    "if studies_with_results:\n",
    "    sample = studies_with_results[0]\n",
    "    print(f\"📄 Sample Study: {sample.nct_id}\")\n",
    "    print(f\"Title: {sample.brief_title}\")\n",
    "    print(f\"Status: {sample.overall_status}\")\n",
    "    print(f\"Has results: {sample.has_results}\")\n",
    "    print(f\"Conditions: {sample.conditions[:3] if sample.conditions else 'None'}\")\n",
    "    \n",
    "    # Show interventions\n",
    "    print(f\"\\n🎯 Interventions ({len(sample.interventions)}):\")\n",
    "    for i, intervention in enumerate(sample.interventions[:2]):\n",
    "        if isinstance(intervention, dict):\n",
    "            name = intervention.get('name', 'Unknown')\n",
    "            itype = intervention.get('type', 'Unknown')\n",
    "            print(f\"  {i+1}. {name} ({itype})\")\n",
    "        else:\n",
    "            print(f\"  {i+1}. {intervention.name} ({intervention.type})\")\n",
    "    \n",
    "    # Show primary outcomes\n",
    "    print(f\"\\n📊 Primary Outcomes ({len(sample.primary_outcomes)}):\")\n",
    "    for i, outcome in enumerate(sample.primary_outcomes[:2]):\n",
    "        if isinstance(outcome, dict):\n",
    "            measure = outcome.get('measure', 'Unknown')\n",
    "            time_frame = outcome.get('time_frame', 'Unknown')\n",
    "            print(f\"  {i+1}. {measure} at {time_frame}\")\n",
    "        else:\n",
    "            print(f\"  {i+1}. {outcome.measure} at {outcome.time_frame}\")\n",
    "    \n",
    "    print(\"\\n✅ All data accessible and working!\")\n",
    "else:\n",
    "    print(\"❌ No studies with results found\")"
   ]
  }
 ],
 "metadata": {
  "kernelspec": {
   "display_name": "Python 3",
   "language": "python",
   "name": "python3"
  },
  "language_info": {
   "codemirror_mode": {
    "name": "ipython",
    "version": 3
   },
   "file_extension": ".py",
   "mimetype": "text/x-python",
   "name": "python",
   "nbconvert_exporter": "python",
   "pygments_lexer": "ipython3",
   "version": "3.8.5"
  }
 },
 "nbformat": 4,
 "nbformat_minor": 4
}